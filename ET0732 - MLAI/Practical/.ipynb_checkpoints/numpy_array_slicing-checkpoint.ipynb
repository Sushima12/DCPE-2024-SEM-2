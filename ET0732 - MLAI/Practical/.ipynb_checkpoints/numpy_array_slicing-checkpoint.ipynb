{
 "cells": [
  {
   "cell_type": "code",
   "execution_count": 13,
   "id": "a745d1f9-3177-4d6d-a308-deb41b1a4034",
   "metadata": {},
   "outputs": [
    {
     "name": "stdout",
     "output_type": "stream",
     "text": [
      "55\n"
     ]
    }
   ],
   "source": [
    "import numpy as np\n",
    "data = np.array([[11,22,33], [44,55,66], [77,88,99]])\n",
    "Green = data[1,1]\n",
    "print(Green)"
   ]
  },
  {
   "cell_type": "code",
   "execution_count": 17,
   "id": "546e92b2-adab-4f85-a0a5-6604ed74be42",
   "metadata": {},
   "outputs": [
    {
     "name": "stdout",
     "output_type": "stream",
     "text": [
      "[77 88 99]\n"
     ]
    }
   ],
   "source": [
    "Yellow = data[2,:]\n",
    "print(Yellow)"
   ]
  },
  {
   "cell_type": "code",
   "execution_count": 15,
   "id": "63824092-c19b-46cf-8b1f-6dbc9ecc557d",
   "metadata": {},
   "outputs": [
    {
     "name": "stdout",
     "output_type": "stream",
     "text": [
      "[11 44]\n"
     ]
    }
   ],
   "source": [
    "Blue = data[:2,0]\n",
    "print(Blue)"
   ]
  },
  {
   "cell_type": "code",
   "execution_count": 21,
   "id": "ab4340c7-8cdb-4c94-8d31-51ed05c92ac3",
   "metadata": {},
   "outputs": [
    {
     "name": "stdout",
     "output_type": "stream",
     "text": [
      "[[55 66]\n",
      " [88 99]]\n"
     ]
    }
   ],
   "source": [
    "Pink = data[1:, 1:]\n",
    "print(Pink)"
   ]
  },
  {
   "cell_type": "code",
   "execution_count": null,
   "id": "24448f72-ec79-42df-bd72-e9ffc4288b0c",
   "metadata": {},
   "outputs": [],
   "source": []
  }
 ],
 "metadata": {
  "kernelspec": {
   "display_name": "Python 3 (ipykernel)",
   "language": "python",
   "name": "python3"
  },
  "language_info": {
   "codemirror_mode": {
    "name": "ipython",
    "version": 3
   },
   "file_extension": ".py",
   "mimetype": "text/x-python",
   "name": "python",
   "nbconvert_exporter": "python",
   "pygments_lexer": "ipython3",
   "version": "3.12.4"
  }
 },
 "nbformat": 4,
 "nbformat_minor": 5
}

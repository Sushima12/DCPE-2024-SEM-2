{
 "cells": [
  {
   "cell_type": "code",
   "execution_count": 9,
   "id": "ecb10d0e-cac2-4b99-bff6-dae999a8c1fa",
   "metadata": {},
   "outputs": [
    {
     "name": "stdout",
     "output_type": "stream",
     "text": [
      "Five is greater than two!\n"
     ]
    }
   ],
   "source": [
    "if 5 > 2:\n",
    "    print(\"Five is greater than two!\")"
   ]
  },
  {
   "cell_type": "code",
   "execution_count": 11,
   "id": "8ae174b0-cacd-4062-9ef5-89d46a411e5a",
   "metadata": {},
   "outputs": [
    {
     "ename": "IndentationError",
     "evalue": "expected an indented block after 'if' statement on line 1 (3793329317.py, line 2)",
     "output_type": "error",
     "traceback": [
      "\u001b[1;36m  Cell \u001b[1;32mIn[11], line 2\u001b[1;36m\u001b[0m\n\u001b[1;33m    print(\"Five is greater than two!\")\u001b[0m\n\u001b[1;37m    ^\u001b[0m\n\u001b[1;31mIndentationError\u001b[0m\u001b[1;31m:\u001b[0m expected an indented block after 'if' statement on line 1\n"
     ]
    }
   ],
   "source": [
    "if 5 > 2:\n",
    "print(\"Five is greater than two!\")"
   ]
  },
  {
   "cell_type": "code",
   "execution_count": 13,
   "id": "6775ba86-9463-43b1-b9e0-edbabafe3d53",
   "metadata": {},
   "outputs": [
    {
     "name": "stdout",
     "output_type": "stream",
     "text": [
      "Hello, World\n"
     ]
    }
   ],
   "source": [
    "print(\"Hello, World\") # This is a comment\n",
    "a = 5 # a is a variable of type integer\n",
    "b =1.2 # b is a variable of type float\n",
    "c = \"ET0732\" # c is a variable of type string"
   ]
  },
  {
   "cell_type": "code",
   "execution_count": 15,
   "id": "a169280b-0ce2-4654-b252-99316c2e0b1a",
   "metadata": {},
   "outputs": [],
   "source": [
    "x = int(1) # x will be 1\n",
    "y = int(2.8) # y will be 2\n",
    "z = int (\"3\") # z will be 3\n",
    "w = float(\"4.2\") #w will be 4.2\n",
    "s = str(3.0) #s will be \"3.0\""
   ]
  },
  {
   "cell_type": "code",
   "execution_count": 5,
   "id": "a6868fe9-4c07-4454-960e-a18e6381f4a3",
   "metadata": {},
   "outputs": [
    {
     "name": "stdout",
     "output_type": "stream",
     "text": [
      "banana\n"
     ]
    }
   ],
   "source": [
    "my_list = [\"apple\", \"banana\", \"cherry\"]\n",
    "print(my_list[1])\n",
    "\n",
    "for x in my_list: print (x)"
   ]
  },
  {
   "cell_type": "code",
   "execution_count": 7,
   "id": "f51ced99-ac81-4edc-a5c2-a2d0530a5b4d",
   "metadata": {},
   "outputs": [
    {
     "name": "stdout",
     "output_type": "stream",
     "text": [
      "apple\n",
      "banana\n",
      "cherry\n"
     ]
    }
   ],
   "source": [
    "for x in my_list: print(x)"
   ]
  },
  {
   "cell_type": "code",
   "execution_count": 17,
   "id": "e6871609-a06a-4ad8-9192-696f66e4dfc9",
   "metadata": {},
   "outputs": [],
   "source": [
    "my_tuple = (\"apple\", \"banana\" , \"cherry\") #tuple\n",
    "my_tuple = {\"apple\", \"banana\" , \"cherry\"} #set\n",
    "my_tuple = {\"brand\" : \"Ford\" , \"model\" : \"Mustang\" , \"year\" : 1964 } #Dictionary\n",
    "x = my dict[\"model\"]"
   ]
  },
  {
   "cell_type": "code",
   "execution_count": 19,
   "id": "1673f128-55df-46e3-b8a1-22cbbaa28edd",
   "metadata": {},
   "outputs": [
    {
     "name": "stdout",
     "output_type": "stream",
     "text": [
      "b is greater than a\n"
     ]
    }
   ],
   "source": [
    "a =100\n",
    "b = 200\n",
    "if b > a:\n",
    "    print(\"b is greater than a\")"
   ]
  },
  {
   "cell_type": "code",
   "execution_count": 21,
   "id": "559dbfcf-b0da-495f-aa0b-d717c71f6071",
   "metadata": {},
   "outputs": [
    {
     "name": "stdout",
     "output_type": "stream",
     "text": [
      "a and b are equal\n"
     ]
    }
   ],
   "source": [
    "a = 1\n",
    "b = 1\n",
    "if b > a:\n",
    "    print(\"b is greater than a\")\n",
    "elif a == b:\n",
    "    print(\"a and b are equal\")"
   ]
  },
  {
   "cell_type": "code",
   "execution_count": 23,
   "id": "d6be6ebc-47fc-4d4c-b7a5-659881bbf238",
   "metadata": {},
   "outputs": [
    {
     "name": "stdout",
     "output_type": "stream",
     "text": [
      "0\n",
      "1\n",
      "2\n",
      "3\n",
      "4\n",
      "5\n",
      "6\n",
      "7\n",
      "8\n",
      "9\n"
     ]
    }
   ],
   "source": [
    "i = 0\n",
    "while i < 10:\n",
    "    print(i)\n",
    "    i+=1"
   ]
  },
  {
   "cell_type": "code",
   "execution_count": 25,
   "id": "7a1f4800-4f02-4ad9-af6c-caf7127fec27",
   "metadata": {},
   "outputs": [
    {
     "name": "stdout",
     "output_type": "stream",
     "text": [
      "0\n",
      "1\n",
      "2\n",
      "3\n"
     ]
    }
   ],
   "source": [
    "i = 0\n",
    "while i < 10:\n",
    "    print(i)\n",
    "    if i == 3:\n",
    "        break\n",
    "    i+=1"
   ]
  },
  {
   "cell_type": "code",
   "execution_count": 27,
   "id": "d3327ab9-fa16-4ac0-95e1-4e9d95866c91",
   "metadata": {},
   "outputs": [
    {
     "name": "stdout",
     "output_type": "stream",
     "text": [
      "1\n",
      "2\n",
      "4\n",
      "5\n",
      "6\n",
      "7\n",
      "8\n",
      "9\n",
      "10\n"
     ]
    }
   ],
   "source": [
    "i = 0\n",
    "while i < 10:\n",
    "    i+=1\n",
    "    if i == 3:\n",
    "        continue\n",
    "    print(i)"
   ]
  },
  {
   "cell_type": "code",
   "execution_count": 29,
   "id": "7f9feec0-ede8-4af3-bbfb-351280e09b2d",
   "metadata": {},
   "outputs": [
    {
     "name": "stdout",
     "output_type": "stream",
     "text": [
      "apple\n",
      "banana\n",
      "cherry\n"
     ]
    }
   ],
   "source": [
    "fruits= [\"apple\", \"banana\", \"cherry\"]\n",
    "for x in fruits: \n",
    "    print (x)"
   ]
  },
  {
   "cell_type": "code",
   "execution_count": 31,
   "id": "67bf2bc5-4377-4b7e-8cdb-25b5d38566c1",
   "metadata": {},
   "outputs": [
    {
     "name": "stdout",
     "output_type": "stream",
     "text": [
      "0\n",
      "1\n",
      "2\n",
      "3\n",
      "4\n",
      "5\n"
     ]
    }
   ],
   "source": [
    "#values from 0 to 5\n",
    "for x in range(6):\n",
    "    print(x)"
   ]
  },
  {
   "cell_type": "code",
   "execution_count": 33,
   "id": "0159145c-b289-48f9-ba23-2f310466b322",
   "metadata": {},
   "outputs": [
    {
     "name": "stdout",
     "output_type": "stream",
     "text": [
      "2\n",
      "5\n",
      "8\n",
      "11\n",
      "14\n",
      "17\n",
      "20\n",
      "23\n",
      "26\n",
      "29\n"
     ]
    }
   ],
   "source": [
    "for x in range (2,30,3):\n",
    "    print(x)"
   ]
  },
  {
   "cell_type": "code",
   "execution_count": 35,
   "id": "1ea72365-252e-4c4b-b409-a9dfda521628",
   "metadata": {},
   "outputs": [
    {
     "name": "stdout",
     "output_type": "stream",
     "text": [
      "My function!\n"
     ]
    }
   ],
   "source": [
    "def my_function():\n",
    "    print(\"My function!\")\n",
    "\n",
    "my_function()"
   ]
  },
  {
   "cell_type": "code",
   "execution_count": 37,
   "id": "5443ab1d-25ff-4c68-aaf7-93d009870c70",
   "metadata": {},
   "outputs": [
    {
     "name": "stdout",
     "output_type": "stream",
     "text": [
      "JoeYang\n",
      "TraceyYang\n"
     ]
    }
   ],
   "source": [
    "def my_function(fname):\n",
    "    print(fname + \"Yang\")\n",
    "\n",
    "my_function(\"Joe\")\n",
    "my_function(\"Tracey\")"
   ]
  },
  {
   "cell_type": "code",
   "execution_count": 39,
   "id": "a8ed1a2d-7c92-48fd-b412-da38e5eb195f",
   "metadata": {},
   "outputs": [
    {
     "name": "stdout",
     "output_type": "stream",
     "text": [
      "15\n"
     ]
    }
   ],
   "source": [
    "def my_function(x):\n",
    "    return 5*x\n",
    "\n",
    "print(my_function(3))"
   ]
  },
  {
   "cell_type": "code",
   "execution_count": 41,
   "id": "51d28d5b-5597-431e-9e64-53285ec46aff",
   "metadata": {},
   "outputs": [
    {
     "data": {
      "text/plain": [
       "[0, 1, 1, 2, 3]"
      ]
     },
     "execution_count": 41,
     "metadata": {},
     "output_type": "execute_result"
    }
   ],
   "source": [
    "def fibs(num):\n",
    "    result = [0,1]\n",
    "    for i in range(2,num):\n",
    "        a = result[i-1] + result[i-2]\n",
    "        result.append(a)\n",
    "    return result\n",
    "\n",
    "fibs(5)"
   ]
  },
  {
   "cell_type": "code",
   "execution_count": 45,
   "id": "0fced24c-2c71-42ee-902a-f3c198c6d335",
   "metadata": {},
   "outputs": [
    {
     "name": "stdout",
     "output_type": "stream",
     "text": [
      "hello, world!\n",
      "Greetings, world!\n",
      "Greetings, universe!\n",
      "hello, Gumby!\n"
     ]
    }
   ],
   "source": [
    "def hello(greeting = 'hello' , name = 'world'):\n",
    "    print ('%s, %s!' %(greeting,name))\n",
    "hello()\n",
    "hello(\"Greetings\")\n",
    "hello('Greetings', 'universe')\n",
    "hello (name = 'Gumby')    "
   ]
  },
  {
   "cell_type": "code",
   "execution_count": 49,
   "id": "001e080c-8679-4e19-bd36-d1b51ebe6c3d",
   "metadata": {},
   "outputs": [
    {
     "name": "stdout",
     "output_type": "stream",
     "text": [
      "5\n"
     ]
    }
   ],
   "source": [
    "class MyClass:\n",
    "    x = 5\n",
    "obj1 = MyClass()\n",
    "print(obj1.x)"
   ]
  },
  {
   "cell_type": "code",
   "execution_count": 51,
   "id": "1fa63bf8-9d70-4315-bad1-27c156d511f0",
   "metadata": {},
   "outputs": [
    {
     "name": "stdout",
     "output_type": "stream",
     "text": [
      "Hello, how are you?\n"
     ]
    }
   ],
   "source": [
    "class MyClass:\n",
    "    def say_hi(self):\n",
    "        print(\"Hello, how are you?\")\n",
    "p = MyClass()\n",
    "p.say_hi()\n"
   ]
  },
  {
   "cell_type": "code",
   "execution_count": 53,
   "id": "60145661-1ee7-46a1-a558-16b1a290e19e",
   "metadata": {},
   "outputs": [
    {
     "name": "stdout",
     "output_type": "stream",
     "text": [
      "John\n",
      "36\n"
     ]
    }
   ],
   "source": [
    "class Person:\n",
    "    def __init__(self, name, age):\n",
    "        self.name = name\n",
    "        self.age = age\n",
    "p = Person(\"John\", 36)\n",
    "\n",
    "print(p.name)\n",
    "print(p.age)"
   ]
  },
  {
   "cell_type": "code",
   "execution_count": 61,
   "id": "4420cc24-cabe-46b7-bb39-59884982e930",
   "metadata": {},
   "outputs": [
    {
     "name": "stdout",
     "output_type": "stream",
     "text": [
      "Husky is now sitting\n",
      "Husky rolled over!\n"
     ]
    }
   ],
   "source": [
    "class Dog():\n",
    "    \"\"\"A simple attempt to simulate a dog\"\"\"\n",
    "    def __init__(self, name, age):\n",
    "        \"\"\"Initialize the name and age attributes.\"\"\"\n",
    "        self.name = name\n",
    "        self.age = age\n",
    "    def sit(self):\n",
    "        \"\"\"Simulate a dog sitting when ordered. \"\"\"\n",
    "        print(self.name.title() + \" is now sitting\")\n",
    "    def roll_over(self):\n",
    "        \"\"\"Simulate a a dog rolling over when ordered.\"\"\"\n",
    "        print(self.name.title() + \" rolled over!\")\n",
    "\n",
    "#Instantiate a class\n",
    "dog = Dog(\"Husky\", 2)\n",
    "dog.sit()\n",
    "dog.roll_over()"
   ]
  },
  {
   "cell_type": "code",
   "execution_count": 63,
   "id": "e5f57fe0-6baf-4eb3-87ad-2d9119a64195",
   "metadata": {},
   "outputs": [
    {
     "name": "stdout",
     "output_type": "stream",
     "text": [
      "Name :  Zara , Salary:  2000\n",
      "Name :  Manni , Salary:  5000\n",
      "Total Employee 2\n"
     ]
    }
   ],
   "source": [
    "class Employee:\n",
    "    'Base class of all employees'\n",
    "    empCount = 0\n",
    "    def __init__(self, name, salary):\n",
    "        self.name = name\n",
    "        self.salary = salary\n",
    "        Employee.empCount += 1\n",
    "    def displayCount(self):\n",
    "        print(\"Total Employee %d\" % Employee.empCount )\n",
    "    def displayEmployee(self):\n",
    "        print(\"Name : \", self.name, \", Salary: \", self.salary)\n",
    "\n",
    "# Create the first object of the Employee class.\n",
    "emp1 = Employee(\"Zara\", 2000)\n",
    "# Create the second object of the Employee class.\n",
    "emp2 = Employee(\"Manni\", 5000)\n",
    "\n",
    "emp1.displayEmployee()\n",
    "emp2.displayEmployee()\n",
    "print(\"Total Employee %d\" % Employee.empCount)"
   ]
  },
  {
   "cell_type": "code",
   "execution_count": 69,
   "id": "1189d610-d47d-45c7-ad40-003ada7b37ed",
   "metadata": {},
   "outputs": [
    {
     "name": "stdout",
     "output_type": "stream",
     "text": [
      "Invoke a child class to construct a method.\n",
      "Invoke a child method.\n"
     ]
    },
    {
     "ename": "AttributeError",
     "evalue": "'Child' object has no attribute 'parentMethod'",
     "output_type": "error",
     "traceback": [
      "\u001b[1;31m---------------------------------------------------------------------------\u001b[0m",
      "\u001b[1;31mAttributeError\u001b[0m                            Traceback (most recent call last)",
      "Cell \u001b[1;32mIn[69], line 19\u001b[0m\n\u001b[0;32m     17\u001b[0m c \u001b[38;5;241m=\u001b[39m Child()\n\u001b[0;32m     18\u001b[0m c\u001b[38;5;241m.\u001b[39mchildMethod()\n\u001b[1;32m---> 19\u001b[0m c\u001b[38;5;241m.\u001b[39mparentMethod()\n\u001b[0;32m     20\u001b[0m c\u001b[38;5;241m.\u001b[39msetAttr(\u001b[38;5;241m200\u001b[39m)\n\u001b[0;32m     21\u001b[0m c\u001b[38;5;241m.\u001b[39mgetAttr()\n",
      "\u001b[1;31mAttributeError\u001b[0m: 'Child' object has no attribute 'parentMethod'"
     ]
    }
   ],
   "source": [
    "class Parent: # Define the parent class.\n",
    "    parentAttr = 100\n",
    "    def __init__(self):\n",
    "        print(\"Invoke the parent class to construct a function.\")\n",
    "        def parentMethod(self):\n",
    "            print('Invoke a parent class method.')\n",
    "        def setAttr(self, attr): \n",
    "            Parent.parentAttr = attr\n",
    "        def getAttr(self):\n",
    "            print(\"Parent attribute:\", Parent.parentAttr)\n",
    "\n",
    "class Child(Parent): # Define a child class.\n",
    "    def __init__(self):\n",
    "        print(\"Invoke a child class to construct a method.\")\n",
    "    def childMethod(self): \n",
    "        print('Invoke a child method.')\n",
    "c = Child()\n",
    "c.childMethod()\n",
    "c.parentMethod()\n",
    "c.setAttr(200)\n",
    "c.getAttr()"
   ]
  },
  {
   "cell_type": "code",
   "execution_count": 71,
   "id": "156243de-4951-44f1-be6f-e336298aedba",
   "metadata": {},
   "outputs": [
    {
     "name": "stdout",
     "output_type": "stream",
     "text": [
      "1\n",
      "2\n",
      "2\n"
     ]
    },
    {
     "ename": "AttributeError",
     "evalue": "'JustCounter' object has no attribute '__secretCount'",
     "output_type": "error",
     "traceback": [
      "\u001b[1;31m---------------------------------------------------------------------------\u001b[0m",
      "\u001b[1;31mAttributeError\u001b[0m                            Traceback (most recent call last)",
      "Cell \u001b[1;32mIn[71], line 13\u001b[0m\n\u001b[0;32m     11\u001b[0m counter\u001b[38;5;241m.\u001b[39mcount()\n\u001b[0;32m     12\u001b[0m \u001b[38;5;28mprint\u001b[39m(counter\u001b[38;5;241m.\u001b[39mpublicCount)\n\u001b[1;32m---> 13\u001b[0m \u001b[38;5;28mprint\u001b[39m(counter\u001b[38;5;241m.\u001b[39m__secretCount)\n",
      "\u001b[1;31mAttributeError\u001b[0m: 'JustCounter' object has no attribute '__secretCount'"
     ]
    }
   ],
   "source": [
    "class JustCounter:\n",
    "    __secretCount = 0\n",
    "    publicCount = 0\n",
    "    def count(self):\n",
    "        self.__secretCount += 1\n",
    "        self.publicCount += 1\n",
    "        print(self.__secretCount)\n",
    "\n",
    "counter = JustCounter()\n",
    "counter.count()\n",
    "counter.count()\n",
    "print(counter.publicCount)\n",
    "print(counter.__secretCount)"
   ]
  },
  {
   "cell_type": "code",
   "execution_count": null,
   "id": "12d8943c-51ee-47fb-998e-db434b05a03a",
   "metadata": {},
   "outputs": [],
   "source": []
  }
 ],
 "metadata": {
  "kernelspec": {
   "display_name": "Python 3 (ipykernel)",
   "language": "python",
   "name": "python3"
  },
  "language_info": {
   "codemirror_mode": {
    "name": "ipython",
    "version": 3
   },
   "file_extension": ".py",
   "mimetype": "text/x-python",
   "name": "python",
   "nbconvert_exporter": "python",
   "pygments_lexer": "ipython3",
   "version": "3.12.4"
  }
 },
 "nbformat": 4,
 "nbformat_minor": 5
}

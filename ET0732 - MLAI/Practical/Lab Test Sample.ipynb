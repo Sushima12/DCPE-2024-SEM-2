{
 "cells": [
  {
   "cell_type": "code",
   "execution_count": 1,
   "id": "6f7260f6-68da-4bae-8f89-0ac677207cc4",
   "metadata": {},
   "outputs": [],
   "source": [
    "# Name\n",
    "# admission number\n",
    "# class\n",
    "# date of test"
   ]
  },
  {
   "cell_type": "code",
   "execution_count": 3,
   "id": "18218ac7-1b34-4a6f-ae21-a89ce5f9fdab",
   "metadata": {},
   "outputs": [],
   "source": [
    "import numpy as np"
   ]
  },
  {
   "cell_type": "code",
   "execution_count": 37,
   "id": "71966a33-7936-4801-bc49-9cb78155d3bc",
   "metadata": {},
   "outputs": [
    {
     "name": "stdout",
     "output_type": "stream",
     "text": [
      "[[ 3  6  9 12]\n",
      " [15 18 21 24]\n",
      " [27 30 33 36]\n",
      " [39 42 45 48]\n",
      " [51 54 57 60]]\n",
      "[[ 6 12]\n",
      " [30 36]\n",
      " [54 60]]\n",
      "[[39 42]\n",
      " [51 54]]\n"
     ]
    }
   ],
   "source": [
    "x = np.array([[3,6,9,12],\n",
    "              [15,18,21,24],\n",
    "              [27,30,33,36],\n",
    "              [39,42,45,48],\n",
    "              [51,54,57,60]])\n",
    "print(x)\n",
    "\n",
    "y = x[:5:2,1:4:2]\n",
    "print(y)\n",
    "\n",
    "z = x[3:,:2]\n",
    "print(z)"
   ]
  },
  {
   "cell_type": "code",
   "execution_count": 55,
   "id": "7b2f43aa-e506-4921-b29a-0492de3c45be",
   "metadata": {},
   "outputs": [
    {
     "name": "stdout",
     "output_type": "stream",
     "text": [
      "2333444555\n",
      "Albert\n",
      "2600  $\n"
     ]
    }
   ],
   "source": [
    "class BankAccount:\n",
    "    # create the constuctor with parameters: accountNumber, name and balance\n",
    "    def __init__(self,accountNumber, name, balance):\n",
    "        self.accountNumber = accountNumber\n",
    "        self.name = name\n",
    "        self.balance = balance\n",
    "    # create Deposit() method\n",
    "    def Deposit(self , d ):\n",
    "        temp_bal = self.balance\n",
    "        self.balance = temp_bal + d\n",
    "    # create Withdrawal method\n",
    "    def Withdrawal(self , w):\n",
    "        temp_bal = self.balance\n",
    "        self.balance = temp_bal - w\n",
    "    # create display() method\n",
    "    def display(self):\n",
    "        print(self.accountNumber)\n",
    "        print(self.name)\n",
    "        print(self.balance, \" $\")\n",
    "# Testing the code :\n",
    "newAccount = BankAccount(2333444555, \"Albert\" , 2700)\n",
    "# Withdraw $300\n",
    "newAccount.Withdrawal(300)\n",
    "# Deposit $200\n",
    "newAccount.Deposit(200)\n",
    "# Display account information\n",
    "newAccount.display()\n"
   ]
  },
  {
   "cell_type": "code",
   "execution_count": null,
   "id": "69cdc84d-9e4c-470a-897d-6c394af9f030",
   "metadata": {},
   "outputs": [],
   "source": []
  }
 ],
 "metadata": {
  "kernelspec": {
   "display_name": "Python 3 (ipykernel)",
   "language": "python",
   "name": "python3"
  },
  "language_info": {
   "codemirror_mode": {
    "name": "ipython",
    "version": 3
   },
   "file_extension": ".py",
   "mimetype": "text/x-python",
   "name": "python",
   "nbconvert_exporter": "python",
   "pygments_lexer": "ipython3",
   "version": "3.12.4"
  }
 },
 "nbformat": 4,
 "nbformat_minor": 5
}

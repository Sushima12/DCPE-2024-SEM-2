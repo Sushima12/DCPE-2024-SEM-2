{
 "cells": [
  {
   "cell_type": "code",
   "execution_count": null,
   "id": "0f50489b-226f-4611-9abf-413b6c198e55",
   "metadata": {},
   "outputs": [],
   "source": [
    "pip install tensorflow"
   ]
  },
  {
   "cell_type": "code",
   "execution_count": null,
   "id": "2b0cf4ad-480e-470e-94d8-78e98489cc2f",
   "metadata": {},
   "outputs": [],
   "source": [
    "import os\n",
    "import tensorflow as tf\n",
    "from tensorflow import keras\n",
    "from tensorflow.keras import layers, optimizers, datasets \n",
    "from matplotlib import pyplot as plt\n",
    "import numpy as np\n",
    "(x_train_raw, y_train_raw), (x_test_raw, y_test_raw) = datasets.mnist.load_data() \n",
    "print(y_train_raw[0])\n",
    "print(x_train_raw.shape, y_train_raw.shape) \n",
    "print(x_test_raw.shape, y_test_raw.shape)\n",
    "# Convert the labels into one-hot codes. num_classes = 10\n",
    "y_train = keras.utils.to_categorical(y_train_raw, num_classes) \n",
    "y_test = keras.utils.to_categorical(y_test_raw, num_classes) \n",
    "print(y_train[0])"
   ]
  },
  {
   "cell_type": "code",
   "execution_count": null,
   "id": "c1836104-cf14-4240-b284-b9b98390b8a0",
   "metadata": {},
   "outputs": [],
   "source": []
  }
 ],
 "metadata": {
  "kernelspec": {
   "display_name": "Python 3 (ipykernel)",
   "language": "python",
   "name": "python3"
  },
  "language_info": {
   "codemirror_mode": {
    "name": "ipython",
    "version": 3
   },
   "file_extension": ".py",
   "mimetype": "text/x-python",
   "name": "python",
   "nbconvert_exporter": "python",
   "pygments_lexer": "ipython3",
   "version": "3.12.4"
  }
 },
 "nbformat": 4,
 "nbformat_minor": 5
}
